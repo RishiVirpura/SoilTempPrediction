{
  "nbformat": 4,
  "nbformat_minor": 0,
  "metadata": {
    "colab": {
      "provenance": []
    },
    "kernelspec": {
      "name": "python3",
      "display_name": "Python 3"
    },
    "language_info": {
      "name": "python"
    }
  },
  "cells": [
    {
      "cell_type": "markdown",
      "source": [
        "The purpose of this colab file is to predict soil temperature in Avon, CT using machine learning and past data. I will use 4 different independent variables in my model:\n",
        "\n",
        "1. Soil Moisture\n",
        "\n",
        "2. Average Air Temperature\n",
        "\n",
        "3. Average Dew Point\n",
        "\n",
        "4. Average Air Humidity"
      ],
      "metadata": {
        "id": "c22HvnGy_eZu"
      }
    },
    {
      "cell_type": "markdown",
      "source": [
        "Data is taken from:\n",
        "https://www.greencastonline.com/tools/soil-temperature\n",
        "https://www.wunderground.com/history/daily/us/ct/hartford"
      ],
      "metadata": {
        "id": "E2WxqRrSxtW-"
      }
    },
    {
      "cell_type": "code",
      "execution_count": 1,
      "metadata": {
        "id": "eUaTxzyR_ahO"
      },
      "outputs": [],
      "source": [
        "import numpy as np\n",
        "import pandas as pd\n",
        "import seaborn as sns\n",
        "import matplotlib.pyplot as plt\n",
        "from sklearn import preprocessing, svm\n",
        "from sklearn.model_selection import train_test_split\n",
        "from sklearn.linear_model import LinearRegression\n",
        "from sklearn.metrics import mean_squared_error, r2_score"
      ]
    },
    {
      "cell_type": "code",
      "source": [
        "from google.colab import drive\n",
        "drive.mount('/content/drive')"
      ],
      "metadata": {
        "colab": {
          "base_uri": "https://localhost:8080/"
        },
        "id": "M1AOgBS-AbYu",
        "outputId": "27ecbce4-e870-4c99-d890-f7e774a356f7"
      },
      "execution_count": 2,
      "outputs": [
        {
          "output_type": "stream",
          "name": "stdout",
          "text": [
            "Mounted at /content/drive\n"
          ]
        }
      ]
    },
    {
      "cell_type": "code",
      "source": [
        "soil_df = pd.read_csv(r'/content/drive/MyDrive/SoilTempData1.csv')"
      ],
      "metadata": {
        "id": "OkEPHlxVahOC"
      },
      "execution_count": 3,
      "outputs": []
    },
    {
      "cell_type": "markdown",
      "source": [
        "# 1. Reviewing the dataset"
      ],
      "metadata": {
        "id": "nlQ074Dl1SPy"
      }
    },
    {
      "cell_type": "code",
      "source": [
        "soil_df.head()"
      ],
      "metadata": {
        "id": "85OhLku9bJ_S",
        "colab": {
          "base_uri": "https://localhost:8080/",
          "height": 224
        },
        "outputId": "133061dc-e08f-4377-a7c2-7ccda983330a"
      },
      "execution_count": 4,
      "outputs": [
        {
          "output_type": "execute_result",
          "data": {
            "text/plain": [
              "         Date  Soil Temp (F)  Soil Moisture (%)  Max Air Temperature  \\\n",
              "0  01/01/2024             35              27.92                  NaN   \n",
              "1  01/02/2024             32              27.29                  NaN   \n",
              "2  01/03/2024             31              26.83                  NaN   \n",
              "3  01/04/2024             32              26.50                  NaN   \n",
              "4  01/05/2024             30              26.08                  NaN   \n",
              "\n",
              "   Average Air Temperature (F)  Min Air Temperature  Max Dew Point  \\\n",
              "0                        35.25                  NaN             28   \n",
              "1                        29.63                  NaN             22   \n",
              "2                        32.88                  NaN             29   \n",
              "3                        35.18                  NaN             32   \n",
              "4                        27.83                  NaN             18   \n",
              "\n",
              "   Average Dew Point (F)  Min Dew Point   Max Air Humidity  \\\n",
              "0                   22.5              14                78   \n",
              "1                   20.0              16                88   \n",
              "2                   25.0              20                88   \n",
              "3                   23.8               8                92   \n",
              "4                   13.6               6                78   \n",
              "\n",
              "   Average Air Humidity (%)  Min Air Humidity  \n",
              "0                      60.8                40  \n",
              "1                      68.8                45  \n",
              "2                      73.9                60  \n",
              "3                      65.1                46  \n",
              "4                      56.0                44  "
            ],
            "text/html": [
              "\n",
              "  <div id=\"df-4ed4d378-1243-425e-aecc-78bf03a2e152\" class=\"colab-df-container\">\n",
              "    <div>\n",
              "<style scoped>\n",
              "    .dataframe tbody tr th:only-of-type {\n",
              "        vertical-align: middle;\n",
              "    }\n",
              "\n",
              "    .dataframe tbody tr th {\n",
              "        vertical-align: top;\n",
              "    }\n",
              "\n",
              "    .dataframe thead th {\n",
              "        text-align: right;\n",
              "    }\n",
              "</style>\n",
              "<table border=\"1\" class=\"dataframe\">\n",
              "  <thead>\n",
              "    <tr style=\"text-align: right;\">\n",
              "      <th></th>\n",
              "      <th>Date</th>\n",
              "      <th>Soil Temp (F)</th>\n",
              "      <th>Soil Moisture (%)</th>\n",
              "      <th>Max Air Temperature</th>\n",
              "      <th>Average Air Temperature (F)</th>\n",
              "      <th>Min Air Temperature</th>\n",
              "      <th>Max Dew Point</th>\n",
              "      <th>Average Dew Point (F)</th>\n",
              "      <th>Min Dew Point</th>\n",
              "      <th>Max Air Humidity</th>\n",
              "      <th>Average Air Humidity (%)</th>\n",
              "      <th>Min Air Humidity</th>\n",
              "    </tr>\n",
              "  </thead>\n",
              "  <tbody>\n",
              "    <tr>\n",
              "      <th>0</th>\n",
              "      <td>01/01/2024</td>\n",
              "      <td>35</td>\n",
              "      <td>27.92</td>\n",
              "      <td>NaN</td>\n",
              "      <td>35.25</td>\n",
              "      <td>NaN</td>\n",
              "      <td>28</td>\n",
              "      <td>22.5</td>\n",
              "      <td>14</td>\n",
              "      <td>78</td>\n",
              "      <td>60.8</td>\n",
              "      <td>40</td>\n",
              "    </tr>\n",
              "    <tr>\n",
              "      <th>1</th>\n",
              "      <td>01/02/2024</td>\n",
              "      <td>32</td>\n",
              "      <td>27.29</td>\n",
              "      <td>NaN</td>\n",
              "      <td>29.63</td>\n",
              "      <td>NaN</td>\n",
              "      <td>22</td>\n",
              "      <td>20.0</td>\n",
              "      <td>16</td>\n",
              "      <td>88</td>\n",
              "      <td>68.8</td>\n",
              "      <td>45</td>\n",
              "    </tr>\n",
              "    <tr>\n",
              "      <th>2</th>\n",
              "      <td>01/03/2024</td>\n",
              "      <td>31</td>\n",
              "      <td>26.83</td>\n",
              "      <td>NaN</td>\n",
              "      <td>32.88</td>\n",
              "      <td>NaN</td>\n",
              "      <td>29</td>\n",
              "      <td>25.0</td>\n",
              "      <td>20</td>\n",
              "      <td>88</td>\n",
              "      <td>73.9</td>\n",
              "      <td>60</td>\n",
              "    </tr>\n",
              "    <tr>\n",
              "      <th>3</th>\n",
              "      <td>01/04/2024</td>\n",
              "      <td>32</td>\n",
              "      <td>26.50</td>\n",
              "      <td>NaN</td>\n",
              "      <td>35.18</td>\n",
              "      <td>NaN</td>\n",
              "      <td>32</td>\n",
              "      <td>23.8</td>\n",
              "      <td>8</td>\n",
              "      <td>92</td>\n",
              "      <td>65.1</td>\n",
              "      <td>46</td>\n",
              "    </tr>\n",
              "    <tr>\n",
              "      <th>4</th>\n",
              "      <td>01/05/2024</td>\n",
              "      <td>30</td>\n",
              "      <td>26.08</td>\n",
              "      <td>NaN</td>\n",
              "      <td>27.83</td>\n",
              "      <td>NaN</td>\n",
              "      <td>18</td>\n",
              "      <td>13.6</td>\n",
              "      <td>6</td>\n",
              "      <td>78</td>\n",
              "      <td>56.0</td>\n",
              "      <td>44</td>\n",
              "    </tr>\n",
              "  </tbody>\n",
              "</table>\n",
              "</div>\n",
              "    <div class=\"colab-df-buttons\">\n",
              "\n",
              "  <div class=\"colab-df-container\">\n",
              "    <button class=\"colab-df-convert\" onclick=\"convertToInteractive('df-4ed4d378-1243-425e-aecc-78bf03a2e152')\"\n",
              "            title=\"Convert this dataframe to an interactive table.\"\n",
              "            style=\"display:none;\">\n",
              "\n",
              "  <svg xmlns=\"http://www.w3.org/2000/svg\" height=\"24px\" viewBox=\"0 -960 960 960\">\n",
              "    <path d=\"M120-120v-720h720v720H120Zm60-500h600v-160H180v160Zm220 220h160v-160H400v160Zm0 220h160v-160H400v160ZM180-400h160v-160H180v160Zm440 0h160v-160H620v160ZM180-180h160v-160H180v160Zm440 0h160v-160H620v160Z\"/>\n",
              "  </svg>\n",
              "    </button>\n",
              "\n",
              "  <style>\n",
              "    .colab-df-container {\n",
              "      display:flex;\n",
              "      gap: 12px;\n",
              "    }\n",
              "\n",
              "    .colab-df-convert {\n",
              "      background-color: #E8F0FE;\n",
              "      border: none;\n",
              "      border-radius: 50%;\n",
              "      cursor: pointer;\n",
              "      display: none;\n",
              "      fill: #1967D2;\n",
              "      height: 32px;\n",
              "      padding: 0 0 0 0;\n",
              "      width: 32px;\n",
              "    }\n",
              "\n",
              "    .colab-df-convert:hover {\n",
              "      background-color: #E2EBFA;\n",
              "      box-shadow: 0px 1px 2px rgba(60, 64, 67, 0.3), 0px 1px 3px 1px rgba(60, 64, 67, 0.15);\n",
              "      fill: #174EA6;\n",
              "    }\n",
              "\n",
              "    .colab-df-buttons div {\n",
              "      margin-bottom: 4px;\n",
              "    }\n",
              "\n",
              "    [theme=dark] .colab-df-convert {\n",
              "      background-color: #3B4455;\n",
              "      fill: #D2E3FC;\n",
              "    }\n",
              "\n",
              "    [theme=dark] .colab-df-convert:hover {\n",
              "      background-color: #434B5C;\n",
              "      box-shadow: 0px 1px 3px 1px rgba(0, 0, 0, 0.15);\n",
              "      filter: drop-shadow(0px 1px 2px rgba(0, 0, 0, 0.3));\n",
              "      fill: #FFFFFF;\n",
              "    }\n",
              "  </style>\n",
              "\n",
              "    <script>\n",
              "      const buttonEl =\n",
              "        document.querySelector('#df-4ed4d378-1243-425e-aecc-78bf03a2e152 button.colab-df-convert');\n",
              "      buttonEl.style.display =\n",
              "        google.colab.kernel.accessAllowed ? 'block' : 'none';\n",
              "\n",
              "      async function convertToInteractive(key) {\n",
              "        const element = document.querySelector('#df-4ed4d378-1243-425e-aecc-78bf03a2e152');\n",
              "        const dataTable =\n",
              "          await google.colab.kernel.invokeFunction('convertToInteractive',\n",
              "                                                    [key], {});\n",
              "        if (!dataTable) return;\n",
              "\n",
              "        const docLinkHtml = 'Like what you see? Visit the ' +\n",
              "          '<a target=\"_blank\" href=https://colab.research.google.com/notebooks/data_table.ipynb>data table notebook</a>'\n",
              "          + ' to learn more about interactive tables.';\n",
              "        element.innerHTML = '';\n",
              "        dataTable['output_type'] = 'display_data';\n",
              "        await google.colab.output.renderOutput(dataTable, element);\n",
              "        const docLink = document.createElement('div');\n",
              "        docLink.innerHTML = docLinkHtml;\n",
              "        element.appendChild(docLink);\n",
              "      }\n",
              "    </script>\n",
              "  </div>\n",
              "\n",
              "\n",
              "    <div id=\"df-53e88a86-b965-4731-9c5d-bb608ac43d7d\">\n",
              "      <button class=\"colab-df-quickchart\" onclick=\"quickchart('df-53e88a86-b965-4731-9c5d-bb608ac43d7d')\"\n",
              "                title=\"Suggest charts\"\n",
              "                style=\"display:none;\">\n",
              "\n",
              "<svg xmlns=\"http://www.w3.org/2000/svg\" height=\"24px\"viewBox=\"0 0 24 24\"\n",
              "     width=\"24px\">\n",
              "    <g>\n",
              "        <path d=\"M19 3H5c-1.1 0-2 .9-2 2v14c0 1.1.9 2 2 2h14c1.1 0 2-.9 2-2V5c0-1.1-.9-2-2-2zM9 17H7v-7h2v7zm4 0h-2V7h2v10zm4 0h-2v-4h2v4z\"/>\n",
              "    </g>\n",
              "</svg>\n",
              "      </button>\n",
              "\n",
              "<style>\n",
              "  .colab-df-quickchart {\n",
              "      --bg-color: #E8F0FE;\n",
              "      --fill-color: #1967D2;\n",
              "      --hover-bg-color: #E2EBFA;\n",
              "      --hover-fill-color: #174EA6;\n",
              "      --disabled-fill-color: #AAA;\n",
              "      --disabled-bg-color: #DDD;\n",
              "  }\n",
              "\n",
              "  [theme=dark] .colab-df-quickchart {\n",
              "      --bg-color: #3B4455;\n",
              "      --fill-color: #D2E3FC;\n",
              "      --hover-bg-color: #434B5C;\n",
              "      --hover-fill-color: #FFFFFF;\n",
              "      --disabled-bg-color: #3B4455;\n",
              "      --disabled-fill-color: #666;\n",
              "  }\n",
              "\n",
              "  .colab-df-quickchart {\n",
              "    background-color: var(--bg-color);\n",
              "    border: none;\n",
              "    border-radius: 50%;\n",
              "    cursor: pointer;\n",
              "    display: none;\n",
              "    fill: var(--fill-color);\n",
              "    height: 32px;\n",
              "    padding: 0;\n",
              "    width: 32px;\n",
              "  }\n",
              "\n",
              "  .colab-df-quickchart:hover {\n",
              "    background-color: var(--hover-bg-color);\n",
              "    box-shadow: 0 1px 2px rgba(60, 64, 67, 0.3), 0 1px 3px 1px rgba(60, 64, 67, 0.15);\n",
              "    fill: var(--button-hover-fill-color);\n",
              "  }\n",
              "\n",
              "  .colab-df-quickchart-complete:disabled,\n",
              "  .colab-df-quickchart-complete:disabled:hover {\n",
              "    background-color: var(--disabled-bg-color);\n",
              "    fill: var(--disabled-fill-color);\n",
              "    box-shadow: none;\n",
              "  }\n",
              "\n",
              "  .colab-df-spinner {\n",
              "    border: 2px solid var(--fill-color);\n",
              "    border-color: transparent;\n",
              "    border-bottom-color: var(--fill-color);\n",
              "    animation:\n",
              "      spin 1s steps(1) infinite;\n",
              "  }\n",
              "\n",
              "  @keyframes spin {\n",
              "    0% {\n",
              "      border-color: transparent;\n",
              "      border-bottom-color: var(--fill-color);\n",
              "      border-left-color: var(--fill-color);\n",
              "    }\n",
              "    20% {\n",
              "      border-color: transparent;\n",
              "      border-left-color: var(--fill-color);\n",
              "      border-top-color: var(--fill-color);\n",
              "    }\n",
              "    30% {\n",
              "      border-color: transparent;\n",
              "      border-left-color: var(--fill-color);\n",
              "      border-top-color: var(--fill-color);\n",
              "      border-right-color: var(--fill-color);\n",
              "    }\n",
              "    40% {\n",
              "      border-color: transparent;\n",
              "      border-right-color: var(--fill-color);\n",
              "      border-top-color: var(--fill-color);\n",
              "    }\n",
              "    60% {\n",
              "      border-color: transparent;\n",
              "      border-right-color: var(--fill-color);\n",
              "    }\n",
              "    80% {\n",
              "      border-color: transparent;\n",
              "      border-right-color: var(--fill-color);\n",
              "      border-bottom-color: var(--fill-color);\n",
              "    }\n",
              "    90% {\n",
              "      border-color: transparent;\n",
              "      border-bottom-color: var(--fill-color);\n",
              "    }\n",
              "  }\n",
              "</style>\n",
              "\n",
              "      <script>\n",
              "        async function quickchart(key) {\n",
              "          const quickchartButtonEl =\n",
              "            document.querySelector('#' + key + ' button');\n",
              "          quickchartButtonEl.disabled = true;  // To prevent multiple clicks.\n",
              "          quickchartButtonEl.classList.add('colab-df-spinner');\n",
              "          try {\n",
              "            const charts = await google.colab.kernel.invokeFunction(\n",
              "                'suggestCharts', [key], {});\n",
              "          } catch (error) {\n",
              "            console.error('Error during call to suggestCharts:', error);\n",
              "          }\n",
              "          quickchartButtonEl.classList.remove('colab-df-spinner');\n",
              "          quickchartButtonEl.classList.add('colab-df-quickchart-complete');\n",
              "        }\n",
              "        (() => {\n",
              "          let quickchartButtonEl =\n",
              "            document.querySelector('#df-53e88a86-b965-4731-9c5d-bb608ac43d7d button');\n",
              "          quickchartButtonEl.style.display =\n",
              "            google.colab.kernel.accessAllowed ? 'block' : 'none';\n",
              "        })();\n",
              "      </script>\n",
              "    </div>\n",
              "\n",
              "    </div>\n",
              "  </div>\n"
            ],
            "application/vnd.google.colaboratory.intrinsic+json": {
              "type": "dataframe",
              "variable_name": "soil_df",
              "summary": "{\n  \"name\": \"soil_df\",\n  \"rows\": 522,\n  \"fields\": [\n    {\n      \"column\": \"Date\",\n      \"properties\": {\n        \"dtype\": \"object\",\n        \"num_unique_values\": 522,\n        \"samples\": [\n          \"03/10/2025\",\n          \"03/16/2025\",\n          \"01/07/2024\"\n        ],\n        \"semantic_type\": \"\",\n        \"description\": \"\"\n      }\n    },\n    {\n      \"column\": \"Soil Temp (F)\",\n      \"properties\": {\n        \"dtype\": \"number\",\n        \"std\": 16,\n        \"min\": 19,\n        \"max\": 79,\n        \"num_unique_values\": 60,\n        \"samples\": [\n          35,\n          28,\n          64\n        ],\n        \"semantic_type\": \"\",\n        \"description\": \"\"\n      }\n    },\n    {\n      \"column\": \"Soil Moisture (%)\",\n      \"properties\": {\n        \"dtype\": \"number\",\n        \"std\": 4.564125896484629,\n        \"min\": 19.58,\n        \"max\": 44.09,\n        \"num_unique_values\": 438,\n        \"samples\": [\n          32.2,\n          28.47,\n          20.15\n        ],\n        \"semantic_type\": \"\",\n        \"description\": \"\"\n      }\n    },\n    {\n      \"column\": \"Max Air Temperature\",\n      \"properties\": {\n        \"dtype\": \"number\",\n        \"std\": 18.382600285021308,\n        \"min\": 21.0,\n        \"max\": 97.0,\n        \"num_unique_values\": 73,\n        \"samples\": [\n          50.0,\n          22.0,\n          57.0\n        ],\n        \"semantic_type\": \"\",\n        \"description\": \"\"\n      }\n    },\n    {\n      \"column\": \"Average Air Temperature (F)\",\n      \"properties\": {\n        \"dtype\": \"number\",\n        \"std\": 17.025247014778035,\n        \"min\": 9.6,\n        \"max\": 85.0,\n        \"num_unique_values\": 379,\n        \"samples\": [\n          29.3,\n          40.1,\n          22.5\n        ],\n        \"semantic_type\": \"\",\n        \"description\": \"\"\n      }\n    },\n    {\n      \"column\": \"Min Air Temperature\",\n      \"properties\": {\n        \"dtype\": \"number\",\n        \"std\": 16.238677890844404,\n        \"min\": -6.0,\n        \"max\": 78.0,\n        \"num_unique_values\": 72,\n        \"samples\": [\n          42.0,\n          19.0,\n          54.0\n        ],\n        \"semantic_type\": \"\",\n        \"description\": \"\"\n      }\n    },\n    {\n      \"column\": \"Max Dew Point\",\n      \"properties\": {\n        \"dtype\": \"number\",\n        \"std\": 17,\n        \"min\": 2,\n        \"max\": 77,\n        \"num_unique_values\": 73,\n        \"samples\": [\n          18,\n          67,\n          48\n        ],\n        \"semantic_type\": \"\",\n        \"description\": \"\"\n      }\n    },\n    {\n      \"column\": \"Average Dew Point (F)\",\n      \"properties\": {\n        \"dtype\": \"number\",\n        \"std\": 18.144819341430757,\n        \"min\": -4.3,\n        \"max\": 74.3,\n        \"num_unique_values\": 366,\n        \"samples\": [\n          68.5,\n          16.3,\n          5.5\n        ],\n        \"semantic_type\": \"\",\n        \"description\": \"\"\n      }\n    },\n    {\n      \"column\": \"Min Dew Point \",\n      \"properties\": {\n        \"dtype\": \"number\",\n        \"std\": 19,\n        \"min\": -11,\n        \"max\": 73,\n        \"num_unique_values\": 79,\n        \"samples\": [\n          32,\n          14,\n          23\n        ],\n        \"semantic_type\": \"\",\n        \"description\": \"\"\n      }\n    },\n    {\n      \"column\": \"Max Air Humidity\",\n      \"properties\": {\n        \"dtype\": \"number\",\n        \"std\": 11,\n        \"min\": 48,\n        \"max\": 100,\n        \"num_unique_values\": 46,\n        \"samples\": [\n          94,\n          86,\n          73\n        ],\n        \"semantic_type\": \"\",\n        \"description\": \"\"\n      }\n    },\n    {\n      \"column\": \"Average Air Humidity (%)\",\n      \"properties\": {\n        \"dtype\": \"number\",\n        \"std\": 14.603296982282371,\n        \"min\": 30.0,\n        \"max\": 97.3,\n        \"num_unique_values\": 334,\n        \"samples\": [\n          91.8,\n          40.6,\n          66.1\n        ],\n        \"semantic_type\": \"\",\n        \"description\": \"\"\n      }\n    },\n    {\n      \"column\": \"Min Air Humidity\",\n      \"properties\": {\n        \"dtype\": \"number\",\n        \"std\": 16,\n        \"min\": 0,\n        \"max\": 93,\n        \"num_unique_values\": 73,\n        \"samples\": [\n          44,\n          52,\n          71\n        ],\n        \"semantic_type\": \"\",\n        \"description\": \"\"\n      }\n    }\n  ]\n}"
            }
          },
          "metadata": {},
          "execution_count": 4
        }
      ]
    },
    {
      "cell_type": "code",
      "source": [
        "soil_df.describe()"
      ],
      "metadata": {
        "colab": {
          "base_uri": "https://localhost:8080/",
          "height": 300
        },
        "id": "IWVjgE1GsINa",
        "outputId": "bc6643ac-32a9-4795-e9fd-bb90cdc66370"
      },
      "execution_count": 5,
      "outputs": [
        {
          "output_type": "execute_result",
          "data": {
            "text/plain": [
              "       Soil Temp (F)  Soil Moisture (%)  Max Air Temperature  \\\n",
              "count     522.000000         522.000000           462.000000   \n",
              "mean       50.752874          28.037663            63.597403   \n",
              "std        16.123749           4.564126            18.382600   \n",
              "min        19.000000          19.580000            21.000000   \n",
              "25%        36.000000          25.487500            49.000000   \n",
              "50%        50.000000          27.475000            65.500000   \n",
              "75%        65.000000          29.912500            79.000000   \n",
              "max        79.000000          44.090000            97.000000   \n",
              "\n",
              "       Average Air Temperature (F)  Min Air Temperature  Max Dew Point  \\\n",
              "count                   522.000000           462.000000     522.000000   \n",
              "mean                     51.322548            44.523810      44.026820   \n",
              "std                      17.025247            16.238678      17.517177   \n",
              "min                       9.600000            -6.000000       2.000000   \n",
              "25%                      37.750000            32.000000      31.000000   \n",
              "50%                      50.850000            44.000000      44.000000   \n",
              "75%                      65.375000            57.000000      58.000000   \n",
              "max                      85.000000            78.000000      77.000000   \n",
              "\n",
              "       Average Dew Point (F)  Min Dew Point   Max Air Humidity  \\\n",
              "count             522.000000      522.000000        522.000000   \n",
              "mean               38.416475       32.331418         83.482759   \n",
              "std                18.144819       19.042717         11.628638   \n",
              "min                -4.300000      -11.000000         48.000000   \n",
              "25%                24.450000       16.000000         77.000000   \n",
              "50%                37.200000       31.000000         86.000000   \n",
              "75%                53.100000       49.000000         92.000000   \n",
              "max                74.300000       73.000000        100.000000   \n",
              "\n",
              "       Average Air Humidity (%)  Min Air Humidity  \n",
              "count                522.000000        522.000000  \n",
              "mean                  64.788697         43.733716  \n",
              "std                   14.603297         16.288780  \n",
              "min                   30.000000          0.000000  \n",
              "25%                   54.025000         32.000000  \n",
              "50%                   63.450000         41.000000  \n",
              "75%                   76.900000         52.000000  \n",
              "max                   97.300000         93.000000  "
            ],
            "text/html": [
              "\n",
              "  <div id=\"df-1b7993c8-c1e7-435c-9a3d-5f1d5f1a9668\" class=\"colab-df-container\">\n",
              "    <div>\n",
              "<style scoped>\n",
              "    .dataframe tbody tr th:only-of-type {\n",
              "        vertical-align: middle;\n",
              "    }\n",
              "\n",
              "    .dataframe tbody tr th {\n",
              "        vertical-align: top;\n",
              "    }\n",
              "\n",
              "    .dataframe thead th {\n",
              "        text-align: right;\n",
              "    }\n",
              "</style>\n",
              "<table border=\"1\" class=\"dataframe\">\n",
              "  <thead>\n",
              "    <tr style=\"text-align: right;\">\n",
              "      <th></th>\n",
              "      <th>Soil Temp (F)</th>\n",
              "      <th>Soil Moisture (%)</th>\n",
              "      <th>Max Air Temperature</th>\n",
              "      <th>Average Air Temperature (F)</th>\n",
              "      <th>Min Air Temperature</th>\n",
              "      <th>Max Dew Point</th>\n",
              "      <th>Average Dew Point (F)</th>\n",
              "      <th>Min Dew Point</th>\n",
              "      <th>Max Air Humidity</th>\n",
              "      <th>Average Air Humidity (%)</th>\n",
              "      <th>Min Air Humidity</th>\n",
              "    </tr>\n",
              "  </thead>\n",
              "  <tbody>\n",
              "    <tr>\n",
              "      <th>count</th>\n",
              "      <td>522.000000</td>\n",
              "      <td>522.000000</td>\n",
              "      <td>462.000000</td>\n",
              "      <td>522.000000</td>\n",
              "      <td>462.000000</td>\n",
              "      <td>522.000000</td>\n",
              "      <td>522.000000</td>\n",
              "      <td>522.000000</td>\n",
              "      <td>522.000000</td>\n",
              "      <td>522.000000</td>\n",
              "      <td>522.000000</td>\n",
              "    </tr>\n",
              "    <tr>\n",
              "      <th>mean</th>\n",
              "      <td>50.752874</td>\n",
              "      <td>28.037663</td>\n",
              "      <td>63.597403</td>\n",
              "      <td>51.322548</td>\n",
              "      <td>44.523810</td>\n",
              "      <td>44.026820</td>\n",
              "      <td>38.416475</td>\n",
              "      <td>32.331418</td>\n",
              "      <td>83.482759</td>\n",
              "      <td>64.788697</td>\n",
              "      <td>43.733716</td>\n",
              "    </tr>\n",
              "    <tr>\n",
              "      <th>std</th>\n",
              "      <td>16.123749</td>\n",
              "      <td>4.564126</td>\n",
              "      <td>18.382600</td>\n",
              "      <td>17.025247</td>\n",
              "      <td>16.238678</td>\n",
              "      <td>17.517177</td>\n",
              "      <td>18.144819</td>\n",
              "      <td>19.042717</td>\n",
              "      <td>11.628638</td>\n",
              "      <td>14.603297</td>\n",
              "      <td>16.288780</td>\n",
              "    </tr>\n",
              "    <tr>\n",
              "      <th>min</th>\n",
              "      <td>19.000000</td>\n",
              "      <td>19.580000</td>\n",
              "      <td>21.000000</td>\n",
              "      <td>9.600000</td>\n",
              "      <td>-6.000000</td>\n",
              "      <td>2.000000</td>\n",
              "      <td>-4.300000</td>\n",
              "      <td>-11.000000</td>\n",
              "      <td>48.000000</td>\n",
              "      <td>30.000000</td>\n",
              "      <td>0.000000</td>\n",
              "    </tr>\n",
              "    <tr>\n",
              "      <th>25%</th>\n",
              "      <td>36.000000</td>\n",
              "      <td>25.487500</td>\n",
              "      <td>49.000000</td>\n",
              "      <td>37.750000</td>\n",
              "      <td>32.000000</td>\n",
              "      <td>31.000000</td>\n",
              "      <td>24.450000</td>\n",
              "      <td>16.000000</td>\n",
              "      <td>77.000000</td>\n",
              "      <td>54.025000</td>\n",
              "      <td>32.000000</td>\n",
              "    </tr>\n",
              "    <tr>\n",
              "      <th>50%</th>\n",
              "      <td>50.000000</td>\n",
              "      <td>27.475000</td>\n",
              "      <td>65.500000</td>\n",
              "      <td>50.850000</td>\n",
              "      <td>44.000000</td>\n",
              "      <td>44.000000</td>\n",
              "      <td>37.200000</td>\n",
              "      <td>31.000000</td>\n",
              "      <td>86.000000</td>\n",
              "      <td>63.450000</td>\n",
              "      <td>41.000000</td>\n",
              "    </tr>\n",
              "    <tr>\n",
              "      <th>75%</th>\n",
              "      <td>65.000000</td>\n",
              "      <td>29.912500</td>\n",
              "      <td>79.000000</td>\n",
              "      <td>65.375000</td>\n",
              "      <td>57.000000</td>\n",
              "      <td>58.000000</td>\n",
              "      <td>53.100000</td>\n",
              "      <td>49.000000</td>\n",
              "      <td>92.000000</td>\n",
              "      <td>76.900000</td>\n",
              "      <td>52.000000</td>\n",
              "    </tr>\n",
              "    <tr>\n",
              "      <th>max</th>\n",
              "      <td>79.000000</td>\n",
              "      <td>44.090000</td>\n",
              "      <td>97.000000</td>\n",
              "      <td>85.000000</td>\n",
              "      <td>78.000000</td>\n",
              "      <td>77.000000</td>\n",
              "      <td>74.300000</td>\n",
              "      <td>73.000000</td>\n",
              "      <td>100.000000</td>\n",
              "      <td>97.300000</td>\n",
              "      <td>93.000000</td>\n",
              "    </tr>\n",
              "  </tbody>\n",
              "</table>\n",
              "</div>\n",
              "    <div class=\"colab-df-buttons\">\n",
              "\n",
              "  <div class=\"colab-df-container\">\n",
              "    <button class=\"colab-df-convert\" onclick=\"convertToInteractive('df-1b7993c8-c1e7-435c-9a3d-5f1d5f1a9668')\"\n",
              "            title=\"Convert this dataframe to an interactive table.\"\n",
              "            style=\"display:none;\">\n",
              "\n",
              "  <svg xmlns=\"http://www.w3.org/2000/svg\" height=\"24px\" viewBox=\"0 -960 960 960\">\n",
              "    <path d=\"M120-120v-720h720v720H120Zm60-500h600v-160H180v160Zm220 220h160v-160H400v160Zm0 220h160v-160H400v160ZM180-400h160v-160H180v160Zm440 0h160v-160H620v160ZM180-180h160v-160H180v160Zm440 0h160v-160H620v160Z\"/>\n",
              "  </svg>\n",
              "    </button>\n",
              "\n",
              "  <style>\n",
              "    .colab-df-container {\n",
              "      display:flex;\n",
              "      gap: 12px;\n",
              "    }\n",
              "\n",
              "    .colab-df-convert {\n",
              "      background-color: #E8F0FE;\n",
              "      border: none;\n",
              "      border-radius: 50%;\n",
              "      cursor: pointer;\n",
              "      display: none;\n",
              "      fill: #1967D2;\n",
              "      height: 32px;\n",
              "      padding: 0 0 0 0;\n",
              "      width: 32px;\n",
              "    }\n",
              "\n",
              "    .colab-df-convert:hover {\n",
              "      background-color: #E2EBFA;\n",
              "      box-shadow: 0px 1px 2px rgba(60, 64, 67, 0.3), 0px 1px 3px 1px rgba(60, 64, 67, 0.15);\n",
              "      fill: #174EA6;\n",
              "    }\n",
              "\n",
              "    .colab-df-buttons div {\n",
              "      margin-bottom: 4px;\n",
              "    }\n",
              "\n",
              "    [theme=dark] .colab-df-convert {\n",
              "      background-color: #3B4455;\n",
              "      fill: #D2E3FC;\n",
              "    }\n",
              "\n",
              "    [theme=dark] .colab-df-convert:hover {\n",
              "      background-color: #434B5C;\n",
              "      box-shadow: 0px 1px 3px 1px rgba(0, 0, 0, 0.15);\n",
              "      filter: drop-shadow(0px 1px 2px rgba(0, 0, 0, 0.3));\n",
              "      fill: #FFFFFF;\n",
              "    }\n",
              "  </style>\n",
              "\n",
              "    <script>\n",
              "      const buttonEl =\n",
              "        document.querySelector('#df-1b7993c8-c1e7-435c-9a3d-5f1d5f1a9668 button.colab-df-convert');\n",
              "      buttonEl.style.display =\n",
              "        google.colab.kernel.accessAllowed ? 'block' : 'none';\n",
              "\n",
              "      async function convertToInteractive(key) {\n",
              "        const element = document.querySelector('#df-1b7993c8-c1e7-435c-9a3d-5f1d5f1a9668');\n",
              "        const dataTable =\n",
              "          await google.colab.kernel.invokeFunction('convertToInteractive',\n",
              "                                                    [key], {});\n",
              "        if (!dataTable) return;\n",
              "\n",
              "        const docLinkHtml = 'Like what you see? Visit the ' +\n",
              "          '<a target=\"_blank\" href=https://colab.research.google.com/notebooks/data_table.ipynb>data table notebook</a>'\n",
              "          + ' to learn more about interactive tables.';\n",
              "        element.innerHTML = '';\n",
              "        dataTable['output_type'] = 'display_data';\n",
              "        await google.colab.output.renderOutput(dataTable, element);\n",
              "        const docLink = document.createElement('div');\n",
              "        docLink.innerHTML = docLinkHtml;\n",
              "        element.appendChild(docLink);\n",
              "      }\n",
              "    </script>\n",
              "  </div>\n",
              "\n",
              "\n",
              "    <div id=\"df-106885a9-6fa6-4bf9-a732-973c741b1f97\">\n",
              "      <button class=\"colab-df-quickchart\" onclick=\"quickchart('df-106885a9-6fa6-4bf9-a732-973c741b1f97')\"\n",
              "                title=\"Suggest charts\"\n",
              "                style=\"display:none;\">\n",
              "\n",
              "<svg xmlns=\"http://www.w3.org/2000/svg\" height=\"24px\"viewBox=\"0 0 24 24\"\n",
              "     width=\"24px\">\n",
              "    <g>\n",
              "        <path d=\"M19 3H5c-1.1 0-2 .9-2 2v14c0 1.1.9 2 2 2h14c1.1 0 2-.9 2-2V5c0-1.1-.9-2-2-2zM9 17H7v-7h2v7zm4 0h-2V7h2v10zm4 0h-2v-4h2v4z\"/>\n",
              "    </g>\n",
              "</svg>\n",
              "      </button>\n",
              "\n",
              "<style>\n",
              "  .colab-df-quickchart {\n",
              "      --bg-color: #E8F0FE;\n",
              "      --fill-color: #1967D2;\n",
              "      --hover-bg-color: #E2EBFA;\n",
              "      --hover-fill-color: #174EA6;\n",
              "      --disabled-fill-color: #AAA;\n",
              "      --disabled-bg-color: #DDD;\n",
              "  }\n",
              "\n",
              "  [theme=dark] .colab-df-quickchart {\n",
              "      --bg-color: #3B4455;\n",
              "      --fill-color: #D2E3FC;\n",
              "      --hover-bg-color: #434B5C;\n",
              "      --hover-fill-color: #FFFFFF;\n",
              "      --disabled-bg-color: #3B4455;\n",
              "      --disabled-fill-color: #666;\n",
              "  }\n",
              "\n",
              "  .colab-df-quickchart {\n",
              "    background-color: var(--bg-color);\n",
              "    border: none;\n",
              "    border-radius: 50%;\n",
              "    cursor: pointer;\n",
              "    display: none;\n",
              "    fill: var(--fill-color);\n",
              "    height: 32px;\n",
              "    padding: 0;\n",
              "    width: 32px;\n",
              "  }\n",
              "\n",
              "  .colab-df-quickchart:hover {\n",
              "    background-color: var(--hover-bg-color);\n",
              "    box-shadow: 0 1px 2px rgba(60, 64, 67, 0.3), 0 1px 3px 1px rgba(60, 64, 67, 0.15);\n",
              "    fill: var(--button-hover-fill-color);\n",
              "  }\n",
              "\n",
              "  .colab-df-quickchart-complete:disabled,\n",
              "  .colab-df-quickchart-complete:disabled:hover {\n",
              "    background-color: var(--disabled-bg-color);\n",
              "    fill: var(--disabled-fill-color);\n",
              "    box-shadow: none;\n",
              "  }\n",
              "\n",
              "  .colab-df-spinner {\n",
              "    border: 2px solid var(--fill-color);\n",
              "    border-color: transparent;\n",
              "    border-bottom-color: var(--fill-color);\n",
              "    animation:\n",
              "      spin 1s steps(1) infinite;\n",
              "  }\n",
              "\n",
              "  @keyframes spin {\n",
              "    0% {\n",
              "      border-color: transparent;\n",
              "      border-bottom-color: var(--fill-color);\n",
              "      border-left-color: var(--fill-color);\n",
              "    }\n",
              "    20% {\n",
              "      border-color: transparent;\n",
              "      border-left-color: var(--fill-color);\n",
              "      border-top-color: var(--fill-color);\n",
              "    }\n",
              "    30% {\n",
              "      border-color: transparent;\n",
              "      border-left-color: var(--fill-color);\n",
              "      border-top-color: var(--fill-color);\n",
              "      border-right-color: var(--fill-color);\n",
              "    }\n",
              "    40% {\n",
              "      border-color: transparent;\n",
              "      border-right-color: var(--fill-color);\n",
              "      border-top-color: var(--fill-color);\n",
              "    }\n",
              "    60% {\n",
              "      border-color: transparent;\n",
              "      border-right-color: var(--fill-color);\n",
              "    }\n",
              "    80% {\n",
              "      border-color: transparent;\n",
              "      border-right-color: var(--fill-color);\n",
              "      border-bottom-color: var(--fill-color);\n",
              "    }\n",
              "    90% {\n",
              "      border-color: transparent;\n",
              "      border-bottom-color: var(--fill-color);\n",
              "    }\n",
              "  }\n",
              "</style>\n",
              "\n",
              "      <script>\n",
              "        async function quickchart(key) {\n",
              "          const quickchartButtonEl =\n",
              "            document.querySelector('#' + key + ' button');\n",
              "          quickchartButtonEl.disabled = true;  // To prevent multiple clicks.\n",
              "          quickchartButtonEl.classList.add('colab-df-spinner');\n",
              "          try {\n",
              "            const charts = await google.colab.kernel.invokeFunction(\n",
              "                'suggestCharts', [key], {});\n",
              "          } catch (error) {\n",
              "            console.error('Error during call to suggestCharts:', error);\n",
              "          }\n",
              "          quickchartButtonEl.classList.remove('colab-df-spinner');\n",
              "          quickchartButtonEl.classList.add('colab-df-quickchart-complete');\n",
              "        }\n",
              "        (() => {\n",
              "          let quickchartButtonEl =\n",
              "            document.querySelector('#df-106885a9-6fa6-4bf9-a732-973c741b1f97 button');\n",
              "          quickchartButtonEl.style.display =\n",
              "            google.colab.kernel.accessAllowed ? 'block' : 'none';\n",
              "        })();\n",
              "      </script>\n",
              "    </div>\n",
              "\n",
              "    </div>\n",
              "  </div>\n"
            ],
            "application/vnd.google.colaboratory.intrinsic+json": {
              "type": "dataframe",
              "summary": "{\n  \"name\": \"soil_df\",\n  \"rows\": 8,\n  \"fields\": [\n    {\n      \"column\": \"Soil Temp (F)\",\n      \"properties\": {\n        \"dtype\": \"number\",\n        \"std\": 169.95300826950384,\n        \"min\": 16.123748932387098,\n        \"max\": 522.0,\n        \"num_unique_values\": 8,\n        \"samples\": [\n          50.752873563218394,\n          50.0,\n          522.0\n        ],\n        \"semantic_type\": \"\",\n        \"description\": \"\"\n      }\n    },\n    {\n      \"column\": \"Soil Moisture (%)\",\n      \"properties\": {\n        \"dtype\": \"number\",\n        \"std\": 175.85165818356236,\n        \"min\": 4.564125896484629,\n        \"max\": 522.0,\n        \"num_unique_values\": 8,\n        \"samples\": [\n          28.03766283524904,\n          27.475,\n          522.0\n        ],\n        \"semantic_type\": \"\",\n        \"description\": \"\"\n      }\n    },\n    {\n      \"column\": \"Max Air Temperature\",\n      \"properties\": {\n        \"dtype\": \"number\",\n        \"std\": 145.95892044090007,\n        \"min\": 18.382600285021308,\n        \"max\": 462.0,\n        \"num_unique_values\": 8,\n        \"samples\": [\n          63.5974025974026,\n          65.5,\n          462.0\n        ],\n        \"semantic_type\": \"\",\n        \"description\": \"\"\n      }\n    },\n    {\n      \"column\": \"Average Air Temperature (F)\",\n      \"properties\": {\n        \"dtype\": \"number\",\n        \"std\": 170.30886505161678,\n        \"min\": 9.6,\n        \"max\": 522.0,\n        \"num_unique_values\": 8,\n        \"samples\": [\n          51.32254789272031,\n          50.849999999999994,\n          522.0\n        ],\n        \"semantic_type\": \"\",\n        \"description\": \"\"\n      }\n    },\n    {\n      \"column\": \"Min Air Temperature\",\n      \"properties\": {\n        \"dtype\": \"number\",\n        \"std\": 152.04054182691794,\n        \"min\": -6.0,\n        \"max\": 462.0,\n        \"num_unique_values\": 8,\n        \"samples\": [\n          44.523809523809526,\n          44.0,\n          462.0\n        ],\n        \"semantic_type\": \"\",\n        \"description\": \"\"\n      }\n    },\n    {\n      \"column\": \"Max Dew Point\",\n      \"properties\": {\n        \"dtype\": \"number\",\n        \"std\": 172.30037351697453,\n        \"min\": 2.0,\n        \"max\": 522.0,\n        \"num_unique_values\": 8,\n        \"samples\": [\n          44.02681992337165,\n          44.0,\n          522.0\n        ],\n        \"semantic_type\": \"\",\n        \"description\": \"\"\n      }\n    },\n    {\n      \"column\": \"Average Dew Point (F)\",\n      \"properties\": {\n        \"dtype\": \"number\",\n        \"std\": 173.94530174774192,\n        \"min\": -4.3,\n        \"max\": 522.0,\n        \"num_unique_values\": 8,\n        \"samples\": [\n          38.41647509578544,\n          37.2,\n          522.0\n        ],\n        \"semantic_type\": \"\",\n        \"description\": \"\"\n      }\n    },\n    {\n      \"column\": \"Min Dew Point \",\n      \"properties\": {\n        \"dtype\": \"number\",\n        \"std\": 175.70121961342593,\n        \"min\": -11.0,\n        \"max\": 522.0,\n        \"num_unique_values\": 8,\n        \"samples\": [\n          32.33141762452107,\n          31.0,\n          522.0\n        ],\n        \"semantic_type\": \"\",\n        \"description\": \"\"\n      }\n    },\n    {\n      \"column\": \"Max Air Humidity\",\n      \"properties\": {\n        \"dtype\": \"number\",\n        \"std\": 161.95378019533416,\n        \"min\": 11.628638355171555,\n        \"max\": 522.0,\n        \"num_unique_values\": 8,\n        \"samples\": [\n          83.48275862068965,\n          86.0,\n          522.0\n        ],\n        \"semantic_type\": \"\",\n        \"description\": \"\"\n      }\n    },\n    {\n      \"column\": \"Average Air Humidity (%)\",\n      \"properties\": {\n        \"dtype\": \"number\",\n        \"std\": 166.31027380518776,\n        \"min\": 14.603296982282371,\n        \"max\": 522.0,\n        \"num_unique_values\": 8,\n        \"samples\": [\n          64.78869731800766,\n          63.45,\n          522.0\n        ],\n        \"semantic_type\": \"\",\n        \"description\": \"\"\n      }\n    },\n    {\n      \"column\": \"Min Air Humidity\",\n      \"properties\": {\n        \"dtype\": \"number\",\n        \"std\": 172.67453405176042,\n        \"min\": 0.0,\n        \"max\": 522.0,\n        \"num_unique_values\": 8,\n        \"samples\": [\n          43.73371647509578,\n          41.0,\n          522.0\n        ],\n        \"semantic_type\": \"\",\n        \"description\": \"\"\n      }\n    }\n  ]\n}"
            }
          },
          "metadata": {},
          "execution_count": 5
        }
      ]
    },
    {
      "cell_type": "markdown",
      "source": [
        "# 2. Pre-processing the data"
      ],
      "metadata": {
        "id": "_3rV5vlS1W6c"
      }
    },
    {
      "cell_type": "code",
      "source": [
        "#Keeping only the columns we need, such as the soil mositure, temperature averages, etc.\n",
        "X = soil_df[[\"Soil Moisture (%)\", \"Average Air Temperature (F)\", \"Average Dew Point (F)\", \"Average Air Humidity (%)\"]]\n",
        "Y = soil_df[\"Soil Temp (F)\"]"
      ],
      "metadata": {
        "id": "6L27Ab7dsNS6"
      },
      "execution_count": 6,
      "outputs": []
    },
    {
      "cell_type": "markdown",
      "source": [
        "Feature Scaling - sometimes models \"value\" features with bigger values and give them a bigger impact int he model. Feature scaling proportionally scales all of the features so they all have more similar values."
      ],
      "metadata": {
        "id": "hcDbRD5n1ZTj"
      }
    },
    {
      "cell_type": "code",
      "source": [
        "from sklearn.pipeline import Pipeline\n",
        "from sklearn.preprocessing import StandardScaler\n",
        "from sklearn.linear_model import LinearRegression"
      ],
      "metadata": {
        "id": "GaobkjZbsOLI"
      },
      "execution_count": 7,
      "outputs": []
    },
    {
      "cell_type": "code",
      "source": [
        "pipeline = Pipeline([\n",
        "    ('scaler', StandardScaler()),\n",
        "    ('regressor', LinearRegression())\n",
        "])"
      ],
      "metadata": {
        "id": "6a6Es4Vs7S1h"
      },
      "execution_count": 8,
      "outputs": []
    },
    {
      "cell_type": "markdown",
      "source": [
        "# 3. Creating a Linear Regression Model"
      ],
      "metadata": {
        "id": "wiY1XVXK1eUN"
      }
    },
    {
      "cell_type": "code",
      "source": [
        "X_train, X_test, y_train, y_test = train_test_split(X, Y, test_size=0.2, random_state=42)"
      ],
      "metadata": {
        "id": "fFZfvjV-sOpi"
      },
      "execution_count": 9,
      "outputs": []
    },
    {
      "cell_type": "code",
      "source": [
        "pipeline.fit(X_train, y_train)\n",
        "y_pred = pipeline.predict(X_test)"
      ],
      "metadata": {
        "id": "oTTSTP1t7X2o"
      },
      "execution_count": 10,
      "outputs": []
    },
    {
      "cell_type": "markdown",
      "source": [
        "# 4. Reviewing the accuracy of our model"
      ],
      "metadata": {
        "id": "R8gUe9sM1gc1"
      }
    },
    {
      "cell_type": "code",
      "source": [
        "print(\"Mean Squared Error:\", mean_squared_error(y_test, y_pred))\n",
        "print(\"R^2 Score:\", r2_score(y_test, y_pred))"
      ],
      "metadata": {
        "colab": {
          "base_uri": "https://localhost:8080/"
        },
        "id": "TujLK2LOsPD0",
        "outputId": "c98d34d0-ee80-47ed-e02f-0c529ae4506e"
      },
      "execution_count": 11,
      "outputs": [
        {
          "output_type": "stream",
          "name": "stdout",
          "text": [
            "Mean Squared Error: 12.328549074346064\n",
            "R^2 Score: 0.9398921448292865\n"
          ]
        }
      ]
    },
    {
      "cell_type": "markdown",
      "source": [
        "# 5. Trying the model with your own data!"
      ],
      "metadata": {
        "id": "k6ee18vx1ilv"
      }
    },
    {
      "cell_type": "code",
      "source": [
        "model = pipeline.named_steps['regressor']"
      ],
      "metadata": {
        "id": "VOqbtMhn8Mhg"
      },
      "execution_count": 12,
      "outputs": []
    },
    {
      "cell_type": "code",
      "source": [
        "print(\"Intercept:\", model.intercept_)\n",
        "print(\"Coefficients:\", model.coef_)"
      ],
      "metadata": {
        "colab": {
          "base_uri": "https://localhost:8080/"
        },
        "id": "vlzLOPM5sPuL",
        "outputId": "9cc28452-d4a3-476b-b0cd-f2513280ebc3"
      },
      "execution_count": 13,
      "outputs": [
        {
          "output_type": "stream",
          "name": "stdout",
          "text": [
            "Intercept: 51.01918465227818\n",
            "Coefficients: [-0.35116805 16.38544397 -0.33853432  0.04892477]\n"
          ]
        }
      ]
    },
    {
      "cell_type": "code",
      "source": [
        "scaler = pipeline.named_steps['scaler']"
      ],
      "metadata": {
        "id": "SpotBqdp9TJz"
      },
      "execution_count": 14,
      "outputs": []
    },
    {
      "cell_type": "code",
      "source": [
        "# Get original scaler parameters\n",
        "means = scaler.mean_\n",
        "scales = scaler.scale_\n",
        "\n",
        "# Adjust coefficients and intercept to account for feature scaling\n",
        "true_coefs = model.coef_ / scales\n",
        "true_intercept = model.intercept_ - np.sum((means / scales) * model.coef_)\n",
        "print(\"True Coefficients:\", true_coefs)\n",
        "print(\"True Intercept:\", true_intercept)"
      ],
      "metadata": {
        "id": "jcg4AQgL9YhL",
        "colab": {
          "base_uri": "https://localhost:8080/"
        },
        "outputId": "a50caf5f-5b11-419d-a0b4-dab37b5bdd07"
      },
      "execution_count": 15,
      "outputs": [
        {
          "output_type": "stream",
          "name": "stdout",
          "text": [
            "True Coefficients: [-0.0744079   0.93154724 -0.01804851  0.00333347]\n",
            "True Intercept: 5.5159887998798\n"
          ]
        }
      ]
    },
    {
      "cell_type": "markdown",
      "source": [
        "Input the data below:"
      ],
      "metadata": {
        "id": "xihDN9ni5cO2"
      }
    },
    {
      "cell_type": "code",
      "source": [
        "# This data is currently for June 30th, 2025. But you can replace it with your own float values for a given day to see how accurate the soil temperature prediction is!\n",
        "Soil_Moisture_percent = 25.04\n",
        "Average_Air_Temp_F = 87.38\n",
        "Average_Dew_Point_F = 70.46\n",
        "Average_Air_Humidity_percent = 61.8"
      ],
      "metadata": {
        "id": "DIiuQSCTyVWJ"
      },
      "execution_count": 16,
      "outputs": []
    },
    {
      "cell_type": "code",
      "source": [
        "Predicted_Soil_temp = (\n",
        "    Soil_Moisture_percent * true_coefs[0] +\n",
        "    Average_Air_Temp_F * true_coefs[1] +\n",
        "    Average_Dew_Point_F * true_coefs[2] +\n",
        "    Average_Air_Humidity_percent * true_coefs[3] +\n",
        "    true_intercept\n",
        ")\n",
        "print(Predicted_Soil_temp)\n",
        "print(\"Actual Soil Temp is 83 degrees Farenheit\")"
      ],
      "metadata": {
        "colab": {
          "base_uri": "https://localhost:8080/"
        },
        "id": "hT8vyM0w9hJK",
        "outputId": "ab8f81c4-378c-4f89-a7de-d89f87074762"
      },
      "execution_count": 18,
      "outputs": [
        {
          "output_type": "stream",
          "name": "stdout",
          "text": [
            "83.98572343621689\n",
            "Actual Soil Temp is 83 degrees Farenheit\n"
          ]
        }
      ]
    },
    {
      "cell_type": "markdown",
      "source": [],
      "metadata": {
        "id": "r48bf4WE1mZt"
      }
    }
  ]
}